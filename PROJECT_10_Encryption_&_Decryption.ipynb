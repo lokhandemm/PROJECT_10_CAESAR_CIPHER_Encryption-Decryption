{
  "nbformat": 4,
  "nbformat_minor": 0,
  "metadata": {
    "colab": {
      "provenance": []
    },
    "kernelspec": {
      "name": "python3",
      "display_name": "Python 3"
    },
    "language_info": {
      "name": "python"
    }
  },
  "cells": [
    {
      "cell_type": "code",
      "execution_count": 1,
      "metadata": {
        "colab": {
          "base_uri": "https://localhost:8080/"
        },
        "id": "g77rQBBRHb3d",
        "outputId": "0b21054d-ba76-41a8-8c98-b5013b4411d2"
      },
      "outputs": [
        {
          "output_type": "stream",
          "name": "stdout",
          "text": [
            "Do you want to (e)ncrypt or (d)ecrypt a message? e\n",
            "Enter your message: helloo\n",
            "Enter the shift value: 2\n",
            "Encrypted message: jgnnqq\n"
          ]
        }
      ],
      "source": [
        "\n",
        "def caesar_cipher_encrypt(text, shift):\n",
        "    encrypted_text = \"\"\n",
        "    for char in text:\n",
        "        if char.isalpha():\n",
        "            shift_base = 65 if char.isupper() else 97\n",
        "            encrypted_text += chr((ord(char) - shift_base + shift) % 26 + shift_base)\n",
        "        else:\n",
        "            encrypted_text += char\n",
        "    return encrypted_text\n",
        "def caesar_cipher_decrypt(text, shift):\n",
        "    decrypted_text = \"\"\n",
        "    for char in text:\n",
        "        if char.isalpha():\n",
        "            shift_base = 65 if char.isupper() else 97\n",
        "            decrypted_text += chr((ord(char) - shift_base - shift) % 26 + shift_base)\n",
        "        else:\n",
        "            decrypted_text += char\n",
        "    return decrypted_text\n",
        "def main():\n",
        "    choice = input(\"Do you want to (e)ncrypt or (d)ecrypt a message? \")\n",
        "    if choice.lower() not in ['e', 'd']:\n",
        "        print(\"Invalid choice! Please select 'e' to encrypt or 'd' to decrypt.\")\n",
        "        return\n",
        "    message = input(\"Enter your message: \")\n",
        "    shift = int(input(\"Enter the shift value: \"))\n",
        "    if choice.lower() == 'e':\n",
        "        encrypted_message = caesar_cipher_encrypt(message, shift)\n",
        "        print(f\"Encrypted message: {encrypted_message}\")\n",
        "    elif choice.lower() == 'd':\n",
        "        decrypted_message = caesar_cipher_decrypt(message, shift)\n",
        "        print(f\"Decrypted message: {decrypted_message}\")\n",
        "if __name__ == \"__main__\":\n",
        "    main()\n"
      ]
    },
    {
      "cell_type": "code",
      "source": [
        "def caesar_cipher_encrypt(text, shift):\n",
        "  encrypted_text = \"\"\n",
        "  for char in text:\n",
        "    if char.isalpha():\n",
        "      shift_base = 65 if char.isupper() else 97\n",
        "      encrypted_text += chr((ord(char) - shift_base + shift) % 26 + shift_base)\n",
        "    else:\n",
        "            encrypted_text += char\n",
        "    return encrypted_text\n",
        "def caesar_cipher_decrypt(text, shift):\n",
        "    decrypted_text = \"\"\n",
        "    for char in text:\n",
        "      if char.isalpha():\n",
        "            shift_base = 65 if char.isupper() else 97\n",
        "            decrypted_text += chr((ord(char) - shift_base - shift) % 26 + shift_base)\n",
        "      else:\n",
        "            decrypted_text += char\n",
        "    return decrypted_text\n",
        "def main():\n",
        "    choice = input(\"Do you want to (e)ncrypt or (d)ecrypt a message? \")\n",
        "    if choice.lower() not in ['e', 'd']:\n",
        "        print(\"Invalid choice! Please select 'e' to encrypt or 'd' to decrypt.\")\n",
        "        return\n",
        "    message = input(\"Enter your message: \")\n",
        "    shift = int(input(\"Enter the shift value: \"))\n",
        "    if choice.lower() == 'e':\n",
        "        encrypted_message = caesar_cipher_encrypt(message, shift)\n",
        "        print(f\"Encrypted message: {encrypted_message}\")\n",
        "    elif choice.lower() == 'd':\n",
        "        decrypted_message = caesar_cipher_decrypt(message, shift)\n",
        "        print(f\"Decrypted message: {decrypted_message}\")\n",
        "if __name__ == \"__main__\":\n",
        "    main()"
      ],
      "metadata": {
        "colab": {
          "base_uri": "https://localhost:8080/"
        },
        "id": "skc7pv5CHc-2",
        "outputId": "c7b1e899-8f17-4f9e-c3e6-9ea1c5d54dcc"
      },
      "execution_count": 3,
      "outputs": [
        {
          "output_type": "stream",
          "name": "stdout",
          "text": [
            "Do you want to (e)ncrypt or (d)ecrypt a message? d\n",
            "Enter your message: jgnnqq\n",
            "Enter the shift value: 2\n",
            "Decrypted message: helloo\n"
          ]
        }
      ]
    }
  ]
}